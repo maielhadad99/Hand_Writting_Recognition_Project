{
  "nbformat": 4,
  "nbformat_minor": 0,
  "metadata": {
    "colab": {
      "name": "Hand_writting_recognition_project.ipynb",
      "provenance": [],
      "authorship_tag": "ABX9TyNeEyZwjscfwb3s3N5bVPRu",
      "include_colab_link": true
    },
    "kernelspec": {
      "name": "python3",
      "display_name": "Python 3"
    },
    "language_info": {
      "name": "python"
    }
  },
  "cells": [
    {
      "cell_type": "markdown",
      "metadata": {
        "id": "view-in-github",
        "colab_type": "text"
      },
      "source": [
        "<a href=\"https://colab.research.google.com/github/maielhadad99/Hand_Writting_Recognition_Project/blob/main/Hand_writting_recognition_project.ipynb\" target=\"_parent\"><img src=\"https://colab.research.google.com/assets/colab-badge.svg\" alt=\"Open In Colab\"/></a>"
      ]
    },
    {
      "cell_type": "code",
      "execution_count": 3,
      "metadata": {
        "colab": {
          "base_uri": "https://localhost:8080/"
        },
        "id": "PwN2kMPi6X3S",
        "outputId": "fe6bf5c2-e1a2-4479-e16c-be64ab9f13da"
      },
      "outputs": [
        {
          "output_type": "stream",
          "name": "stdout",
          "text": [
            "Downloading data from https://storage.googleapis.com/tensorflow/tf-keras-datasets/mnist.npz\n",
            "11493376/11490434 [==============================] - 0s 0us/step\n",
            "11501568/11490434 [==============================] - 0s 0us/step\n",
            "Train: X = (60000, 28, 28), y = (60000,)\n",
            "Test: X = (10000, 28, 28), y = (10000,)\n"
          ]
        }
      ],
      "source": [
        "#importing datasets\n",
        "\n",
        "from keras.datasets import mnist \n",
        "\n",
        "(trainsetX, trainsety),(testsetX,testsety) = mnist.load_data()\n",
        "\n",
        "print('Train: X = {}, y = {}'.format(trainsetX.shape, trainsety.shape)) \n",
        "print('Test: X = {}, y = {}'.format(testsetX.shape, testsety.shape))"
      ]
    },
    {
      "cell_type": "code",
      "source": [
        "#importing libraries\n",
        "import pandas as pd\n",
        "import numpy as np\n",
        "import matplotlib.pyplot as plt\n"
      ],
      "metadata": {
        "id": "pWKYVxC3_TLR"
      },
      "execution_count": 4,
      "outputs": []
    },
    {
      "cell_type": "code",
      "source": [
        "#EDA Plotting the image\n",
        "plt.imshow(trainsetX[1119])\n",
        "plt.show()"
      ],
      "metadata": {
        "colab": {
          "base_uri": "https://localhost:8080/",
          "height": 265
        },
        "id": "_LpNIeGX_hI1",
        "outputId": "4c2e9ce8-ddee-4abe-bc68-a7c35571a908"
      },
      "execution_count": 12,
      "outputs": [
        {
          "output_type": "display_data",
          "data": {
            "image/png": "[encoded data removed]",
            "text/plain": [
              "<Figure size 432x288 with 1 Axes>"
            ]
          },
          "metadata": {
            "needs_background": "light"
          }
        }
      ]
    },
    {
      "cell_type": "code",
      "source": [
        "#checking the image \n",
        "print(trainsety[1119])"
      ],
      "metadata": {
        "colab": {
          "base_uri": "https://localhost:8080/"
        },
        "id": "nNlg5bicAnwv",
        "outputId": "63f82917-0522-46f3-bc22-7a180e957ad5"
      },
      "execution_count": 13,
      "outputs": [
        {
          "output_type": "stream",
          "name": "stdout",
          "text": [
            "3\n"
          ]
        }
      ]
    },
    {
      "cell_type": "code",
      "source": [
        "#Array of the image\n",
        "print(trainsetX[1119])"
      ],
      "metadata": {
        "colab": {
          "base_uri": "https://localhost:8080/"
        },
        "id": "lnDjg3T-Bb_L",
        "outputId": "f8d3e189-d87c-40cd-de01-af0da2817dc1"
      },
      "execution_count": 14,
      "outputs": [
        {
          "output_type": "stream",
          "name": "stdout",
          "text": [
            "[[  0   0   0   0   0   0   0   0   0   0   0   0   0   0   0   0   0   0\n",
            "    0   0   0   0   0   0   0   0   0   0]\n",
            " [  0   0   0   0   0   0   0   0   0   0   0   0   0   0   0   0   0   0\n",
            "    0   0   0   0   0   0   0   0   0   0]\n",
            " [  0   0   0   0   0   0   0   0   0   0   0   0   0   0   0   0   0   0\n",
            "    0   0   0   0   0   0   0   0   0   0]\n",
            " [  0   0   0   0   0   0   0   0   0   0   0   0   0   0   0   0   0   0\n",
            "    0   0   0   0   0   0   0   0   0   0]\n",
            " [  0   0   0   0   0   0   0   0   0   0   0   0   0   0   0   0  13  32\n",
            "    0   0   0   0   0  23   0   0   0   0]\n",
            " [  0   0   0   0   0   0   0   0   0   0   0   0   0   0   1  65 233 159\n",
            "    0   0  14  80 158 241   0   0   0   0]\n",
            " [  0   0   0   0   0   0   0   0   0   0   0   0   0  44 121 254 166  51\n",
            "   93 155 251 254 254 241   0   0   0   0]\n",
            " [  0   0   0   0   0   0   0   0   0   0   0  14 127 226 254 242 184 249\n",
            "  245 183 102 208 253 131   0   0   0   0]\n",
            " [  0   0   0   0   0   0   0   0   0   0  46 197 254 254 254 245 197  95\n",
            "   21   0 152 254 116   0   0   0   0   0]\n",
            " [  0   0   0   0   0   0   0   0  73 187 246 254 243 182  78  15   0   0\n",
            "   13 187 244  85   1   0   0   0   0   0]\n",
            " [  0   0   0   0   0   0   0  50 243 254 223 117  23   0   0   0   0  27\n",
            "  196 254  77   0   0   0   0   0   0   0]\n",
            " [  0   0   0   0   0   0   0  93 154  61   5   0   0   0   0   0  93 209\n",
            "  254 254 238  32   0   0   0   0   0   0]\n",
            " [  0   0   0   0   0   0   0   0   0   0   0   0   0   0  22 152 250 254\n",
            "  211 145 251  86   0   0   0   0   0   0]\n",
            " [  0   0   0   0   0   0   0   0   0   0   0   0   0 118 252 248 151  41\n",
            "    2  17 245  58   0   0   0   0   0   0]\n",
            " [  0   0   0   0   0   0   0   0   0   0   0   0   1 221 229  69   0   0\n",
            "    0   0 241  57   0   0   0   0   0   0]\n",
            " [  0   0   0   0   7  18   0   0   0   0   0   0  19 128  10   0   0   0\n",
            "    0  43 247  39   0   0   0   0   0   0]\n",
            " [  0   0   0   0 128 211   3   0   0   0   0   0   0   0   0   0   0   0\n",
            "    1 167 226   0   0   0   0   0   0   0]\n",
            " [  0   0   0   0 183 254 120   0   0   0   0   0   0   0   0   0   0  25\n",
            "  166 254  89   0   0   0   0   0   0   0]\n",
            " [  0   0   0   0 204 254 198  14   0   0   0   0   0   0   0   0  38 227\n",
            "  253 184   5   0   0   0   0   0   0   0]\n",
            " [  0   0   0   0 183 254 254 173  13   0   0   0   0   0  19 141 234 254\n",
            "  124   0   0   0   0   0   0   0   0   0]\n",
            " [  0   0   0   0  89 254 254 254 208  82 155 101 136 179 225 254 223 109\n",
            "    5   0   0   0   0   0   0   0   0   0]\n",
            " [  0   0   0   0   8 133 254 254 255 254 255 255 254 255 254 137  40   0\n",
            "    0   0   0   0   0   0   0   0   0   0]\n",
            " [  0   0   0   0   0   1  41 168 222 222 222 214 150 121  17   0   0   0\n",
            "    0   0   0   0   0   0   0   0   0   0]\n",
            " [  0   0   0   0   0   0   0   0   0   0   0   0   0   0   0   0   0   0\n",
            "    0   0   0   0   0   0   0   0   0   0]\n",
            " [  0   0   0   0   0   0   0   0   0   0   0   0   0   0   0   0   0   0\n",
            "    0   0   0   0   0   0   0   0   0   0]\n",
            " [  0   0   0   0   0   0   0   0   0   0   0   0   0   0   0   0   0   0\n",
            "    0   0   0   0   0   0   0   0   0   0]\n",
            " [  0   0   0   0   0   0   0   0   0   0   0   0   0   0   0   0   0   0\n",
            "    0   0   0   0   0   0   0   0   0   0]\n",
            " [  0   0   0   0   0   0   0   0   0   0   0   0   0   0   0   0   0   0\n",
            "    0   0   0   0   0   0   0   0   0   0]]\n"
          ]
        }
      ]
    },
    {
      "cell_type": "code",
      "source": [
        "import tensorflow as tf"
      ],
      "metadata": {
        "id": "wD7rAOkrSxJK"
      },
      "execution_count": 15,
      "outputs": []
    },
    {
      "cell_type": "code",
      "source": [
        "#train test split\n",
        "Xtrain=tf.keras.utils.normalize(trainsetX,axis=1)\n",
        "Xtest=tf.keras.utils.normalize(testsetX,axis=1)"
      ],
      "metadata": {
        "id": "vz1uNv78SxfE"
      },
      "execution_count": 16,
      "outputs": []
    },
    {
      "cell_type": "code",
      "source": [
        "#setting up the image size\n",
        "IMG_SIZE=28\n",
        "x_trainr=np.array(Xtrain).reshape(-1,IMG_SIZE,IMG_SIZE,1)\n",
        "x_testr=np.array(Xtest).reshape(-1,IMG_SIZE,IMG_SIZE,1)\n",
        "print(x_trainr.shape)\n",
        "print(x_testr.shape)"
      ],
      "metadata": {
        "colab": {
          "base_uri": "https://localhost:8080/"
        },
        "id": "I_jDj4B3SxhZ",
        "outputId": "aec2a58b-f1d1-4df2-8580-ff402386e165"
      },
      "execution_count": 17,
      "outputs": [
        {
          "output_type": "stream",
          "name": "stdout",
          "text": [
            "(60000, 28, 28, 1)\n",
            "(10000, 28, 28, 1)\n"
          ]
        }
      ]
    },
    {
      "cell_type": "code",
      "source": [
        "#importing the model\n",
        "from tensorflow.keras.models import Sequential\n",
        "from tensorflow.keras.layers import Dense, Activation,Flatten,Conv2D,MaxPooling2D"
      ],
      "metadata": {
        "id": "BN-Upt0aUtto"
      },
      "execution_count": 18,
      "outputs": []
    },
    {
      "cell_type": "code",
      "source": [
        "#fiting the model\n",
        "model =Sequential()\n",
        "model.add(Conv2D(64,(3,3),input_shape= x_trainr.shape[1:]))\n",
        "model.add(Activation(\"relu\"))\n",
        "model.add(MaxPooling2D(pool_size=(2,2)))"
      ],
      "metadata": {
        "id": "5KRQ5OUiUxrM"
      },
      "execution_count": 19,
      "outputs": []
    },
    {
      "cell_type": "code",
      "source": [
        "#Relu activation\n",
        "model.add(Flatten())\n",
        "model.add(Dense(64))\n",
        "model.add(Activation(\"relu\"))"
      ],
      "metadata": {
        "id": "ERaWGSrBUx8Y"
      },
      "execution_count": 20,
      "outputs": []
    },
    {
      "cell_type": "code",
      "source": [
        "#segmoid activation\n",
        "model.add(Dense(10))\n",
        "model.add(Activation(\"sigmoid\"))"
      ],
      "metadata": {
        "id": "hjhPsQVaUx_h"
      },
      "execution_count": 21,
      "outputs": []
    },
    {
      "cell_type": "code",
      "source": [
        "#base model\n",
        "model.summary()"
      ],
      "metadata": {
        "colab": {
          "base_uri": "https://localhost:8080/"
        },
        "id": "Vb8ki85kVcZs",
        "outputId": "a142af95-e3ce-4f7f-8673-393b19a98a7e"
      },
      "execution_count": 22,
      "outputs": [
        {
          "output_type": "stream",
          "name": "stdout",
          "text": [
            "Model: \"sequential\"\n",
            "_________________________________________________________________\n",
            " Layer (type)                Output Shape              Param #   \n",
            "=================================================================\n",
            " conv2d (Conv2D)             (None, 26, 26, 64)        640       \n",
            "                                                                 \n",
            " activation (Activation)     (None, 26, 26, 64)        0         \n",
            "                                                                 \n",
            " max_pooling2d (MaxPooling2D  (None, 13, 13, 64)       0         \n",
            " )                                                               \n",
            "                                                                 \n",
            " flatten (Flatten)           (None, 10816)             0         \n",
            "                                                                 \n",
            " dense (Dense)               (None, 64)                692288    \n",
            "                                                                 \n",
            " activation_1 (Activation)   (None, 64)                0         \n",
            "                                                                 \n",
            " dense_1 (Dense)             (None, 10)                650       \n",
            "                                                                 \n",
            " activation_2 (Activation)   (None, 10)                0         \n",
            "                                                                 \n",
            "=================================================================\n",
            "Total params: 693,578\n",
            "Trainable params: 693,578\n",
            "Non-trainable params: 0\n",
            "_________________________________________________________________\n"
          ]
        }
      ]
    },
    {
      "cell_type": "code",
      "source": [
        "#CNN\n",
        "model.compile(loss=\"sparse_categorical_crossentropy\",optimizer=\"adam\",metrics=['accuracy'])"
      ],
      "metadata": {
        "id": "QeQJ9vdJWD8a"
      },
      "execution_count": 23,
      "outputs": []
    },
    {
      "cell_type": "code",
      "source": [
        "#fitting the model and Epochs\n",
        "model.fit(x_trainr,trainsety,epochs=5,validation_split=0.3)"
      ],
      "metadata": {
        "colab": {
          "base_uri": "https://localhost:8080/"
        },
        "id": "dSvKdF3FWDqI",
        "outputId": "c5781a61-c3fd-4d83-c0e2-67ca380e6321"
      },
      "execution_count": 24,
      "outputs": [
        {
          "output_type": "stream",
          "name": "stdout",
          "text": [
            "Epoch 1/5\n",
            "1313/1313 [==============================] - 45s 33ms/step - loss: 0.2384 - accuracy: 0.9300 - val_loss: 0.1224 - val_accuracy: 0.9644\n",
            "Epoch 2/5\n",
            "1313/1313 [==============================] - 38s 29ms/step - loss: 0.0815 - accuracy: 0.9753 - val_loss: 0.0891 - val_accuracy: 0.9738\n",
            "Epoch 3/5\n",
            "1313/1313 [==============================] - 40s 30ms/step - loss: 0.0547 - accuracy: 0.9827 - val_loss: 0.0771 - val_accuracy: 0.9769\n",
            "Epoch 4/5\n",
            "1313/1313 [==============================] - 38s 29ms/step - loss: 0.0400 - accuracy: 0.9872 - val_loss: 0.0754 - val_accuracy: 0.9772\n",
            "Epoch 5/5\n",
            "1313/1313 [==============================] - 38s 29ms/step - loss: 0.0303 - accuracy: 0.9903 - val_loss: 0.0716 - val_accuracy: 0.9788\n"
          ]
        },
        {
          "output_type": "execute_result",
          "data": {
            "text/plain": [
              "<keras.callbacks.History at 0x7f4b68fa9f10>"
            ]
          },
          "metadata": {},
          "execution_count": 24
        }
      ]
    },
    {
      "cell_type": "code",
      "source": [
        "#predicting\n",
        "prediction=model.predict([x_testr])\n",
        "print(prediction)"
      ],
      "metadata": {
        "colab": {
          "base_uri": "https://localhost:8080/"
        },
        "id": "lghunF8-WDF6",
        "outputId": "0c952dee-90b6-489f-84e0-c0f98d8b9d55"
      },
      "execution_count": 25,
      "outputs": [
        {
          "output_type": "stream",
          "name": "stdout",
          "text": [
            "[[7.5530035e-05 1.4147162e-03 1.7735696e-01 ... 9.9999988e-01\n",
            "  2.9644763e-01 2.6599079e-02]\n",
            " [8.7493986e-01 9.8313457e-01 1.0000000e+00 ... 6.8413588e-05\n",
            "  2.1303028e-02 3.4746643e-09]\n",
            " [2.1900982e-02 9.9998397e-01 1.1491477e-03 ... 4.9524009e-03\n",
            "  2.5226623e-02 2.4770200e-03]\n",
            " ...\n",
            " [2.4241209e-04 8.8787377e-03 9.3944880e-05 ... 8.9924395e-02\n",
            "  9.6393883e-01 9.3996644e-01]\n",
            " [4.3437779e-03 1.8504560e-03 5.6937670e-06 ... 4.8041016e-02\n",
            "  9.9340451e-01 1.8926680e-02]\n",
            " [3.1653404e-01 5.2688479e-02 5.4780781e-01 ... 4.9025217e-05\n",
            "  9.0004504e-03 2.7561027e-06]]\n"
          ]
        }
      ]
    },
    {
      "cell_type": "code",
      "source": [
        "#verifing the model\n",
        "plt.imshow(Xtest[5780])"
      ],
      "metadata": {
        "colab": {
          "base_uri": "https://localhost:8080/",
          "height": 282
        },
        "id": "Y67c1IGDXVdy",
        "outputId": "e1b61b49-d4d7-4b7e-e992-c78dbac3528a"
      },
      "execution_count": 27,
      "outputs": [
        {
          "output_type": "execute_result",
          "data": {
            "text/plain": [
              "<matplotlib.image.AxesImage at 0x7f4b6901cdd0>"
            ]
          },
          "metadata": {},
          "execution_count": 27
        },
        {
          "output_type": "display_data",
          "data": {
            "image/png": "[encoded data removed]",
            "text/plain": [
              "<Figure size 432x288 with 1 Axes>"
            ]
          },
          "metadata": {
            "needs_background": "light"
          }
        }
      ]
    },
    {
      "cell_type": "code",
      "source": [
        "print(np.argmax(prediction[5780]))"
      ],
      "metadata": {
        "colab": {
          "base_uri": "https://localhost:8080/"
        },
        "id": "BM5JZ5CzWC4v",
        "outputId": "9d386372-cf26-4cc9-a8a9-3193226b98ba"
      },
      "execution_count": 26,
      "outputs": [
        {
          "output_type": "stream",
          "name": "stdout",
          "text": [
            "3\n"
          ]
        }
      ]
    },
    {
      "cell_type": "code",
      "source": [
        "plt.imshow(Xtest[1111])"
      ],
      "metadata": {
        "colab": {
          "base_uri": "https://localhost:8080/",
          "height": 282
        },
        "id": "gWHJkMchX9VN",
        "outputId": "a0391ea4-caf8-4a27-90bf-55d8db9367d8"
      },
      "execution_count": 28,
      "outputs": [
        {
          "output_type": "execute_result",
          "data": {
            "text/plain": [
              "<matplotlib.image.AxesImage at 0x7f4b67593b50>"
            ]
          },
          "metadata": {},
          "execution_count": 28
        },
        {
          "output_type": "display_data",
          "data": {
            "image/png": "[encoded data removed]",
            "text/plain": [
              "<Figure size 432x288 with 1 Axes>"
            ]
          },
          "metadata": {
            "needs_background": "light"
          }
        }
      ]
    },
    {
      "cell_type": "code",
      "source": [
        "print(np.argmax(prediction[1111]))"
      ],
      "metadata": {
        "colab": {
          "base_uri": "https://localhost:8080/"
        },
        "id": "OmpLVkjfX9YV",
        "outputId": "ef2dc663-3e69-4c54-d609-aace7c0c2634"
      },
      "execution_count": 30,
      "outputs": [
        {
          "output_type": "stream",
          "name": "stdout",
          "text": [
            "4\n"
          ]
        }
      ]
    },
    {
      "cell_type": "code",
      "source": [
        ""
      ],
      "metadata": {
        "id": "DHR_THhIX9bI"
      },
      "execution_count": null,
      "outputs": []
    }
  ]
}